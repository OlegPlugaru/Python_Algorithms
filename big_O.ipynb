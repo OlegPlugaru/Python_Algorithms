{
 "cells": [
  {
   "attachments": {},
   "cell_type": "markdown",
   "metadata": {},
   "source": [
    "# Why Analize Algorithms???\n",
    "\n",
    "* Procedure of formula for solving a problem.\n",
    "* Some are so useful they have names:\n",
    "merge sort, buble sort etc...\n",
    "* How can we compare the algos to know which is better?"
   ]
  },
  {
   "cell_type": "code",
   "execution_count": 1,
   "metadata": {},
   "outputs": [],
   "source": [
    "\n",
    "# Imagine I came up with this function...\n",
    "def sum1(n):\n",
    "    \"\"\"\n",
    "    Take an input of n and return the sum of the numbers from 0 to n\n",
    "    \"\"\"\n",
    "    final_sum = 0\n",
    "    for x in range(n+1):\n",
    "        final_sum += x\n",
    "\n",
    "    return final_sum"
   ]
  },
  {
   "cell_type": "code",
   "execution_count": 3,
   "metadata": {},
   "outputs": [
    {
     "data": {
      "text/plain": [
       "15"
      ]
     },
     "execution_count": 3,
     "metadata": {},
     "output_type": "execute_result"
    }
   ],
   "source": [
    "sum1(5)"
   ]
  },
  {
   "cell_type": "code",
   "execution_count": 4,
   "metadata": {},
   "outputs": [],
   "source": [
    "# And you came up with this function...abs\n",
    "def sum2(n):\n",
    "    \"\"\"\n",
    "    Take an input of n and return the sum of the numbers from 0 to n\n",
    "    \"\"\"\n",
    "    return (n*(n+1))//2"
   ]
  },
  {
   "cell_type": "code",
   "execution_count": 5,
   "metadata": {},
   "outputs": [
    {
     "data": {
      "text/plain": [
       "15"
      ]
     },
     "execution_count": 5,
     "metadata": {},
     "output_type": "execute_result"
    }
   ],
   "source": [
    "sum2(5)"
   ]
  },
  {
   "attachments": {},
   "cell_type": "markdown",
   "metadata": {},
   "source": [
    "Function sum1 uses a for loop to iteratively add across our range + 1<br>\n",
    "Function sum2 makes use of a formula to solve a problem\n",
    "\n",
    "## OBJECTIVELY COMPARE THEM\n",
    "\n",
    "- memory space\n",
    "- time to run"
   ]
  },
  {
   "cell_type": "code",
   "execution_count": 6,
   "metadata": {},
   "outputs": [
    {
     "name": "stdout",
     "output_type": "stream",
     "text": [
      "3.5 µs ± 111 ns per loop (mean ± std. dev. of 7 runs, 100,000 loops each)\n"
     ]
    }
   ],
   "source": [
    "# built in magic commands in notebook\n",
    "# result is microseconds\n"
   ]
  },
  {
   "cell_type": "code",
   "execution_count": 8,
   "metadata": {},
   "outputs": [
    {
     "name": "stdout",
     "output_type": "stream",
     "text": [
      "177 ns ± 2.55 ns per loop (mean ± std. dev. of 7 runs, 10,000,000 loops each)\n"
     ]
    }
   ],
   "source": [
    "%timeit sum2(1000000000)\n",
    "# order is nanoseconds per loop."
   ]
  },
  {
   "attachments": {},
   "cell_type": "markdown",
   "metadata": {},
   "source": [
    "MICRO = 10^-6\n",
    "NANO =  10^-9\n",
    "\n",
    "Smaller number is obviously faster\n",
    "\n",
    "**-cannot simply rely on time to run because all computers are different and some faster than others.**<br>\n",
    "**-to be hardware independent = Big O**"
   ]
  },
  {
   "attachments": {},
   "cell_type": "markdown",
   "metadata": {},
   "source": [
    "objectively compare the efficiency of these two algorithms\n",
    "\n",
    "* compare the numbers of assignments each algorithm makes<br>\n",
    "\n",
    "The original sum1 function will create an assignment n+1 times, we can see this from the range based function. This means it<br>\n",
    " will assign the final_sum variable n+1 times. We can then say that for a problem of n size (in this case just a number n) this<br>\n",
    " function wiil take 1+n steps.<br><br>\n",
    "This n notation allows us to campare solutions and algorithms relative to the size of the problem, since sum1(10) and<br>\n",
    "sum1(100000) would take very different times to run but be using the same algorithm. We can also note that as n grows very<br>\n",
    "large, the +1 won't have much effect. So let's begin discussing hot to build a syntax for this notation.<br><br>\n",
    "Big-O notation describes how quickly runtime will grow relative to the input as the input get arbitrarily large.<br><br>\n",
    "## HOW WELL CAN IT SCALE as data increases?\n",
    "Remember, we want to compare how quickly runtime will grow, not compare exaxt runtimes, since those can vary <br>\n",
    "depending on hardware.<br><br>\n",
    "Since we want to compare for a variety of input sizes, we are only concerned with runtime grow relative to the input. This is why<br>\n",
    "we use n for notation.<br><br>\n",
    "As n gets arbitrarily large we only worry about terms that will grow fastest as n gets large, to this point, Big-O analysis is<br>\n",
    "also known as asymphotic analysis<br><br>\n",
    "* which part of the algorithm has the GREATEST effect on final answer, which part of algo is the real bottleneck, which part<br>\n",
    "is the limiting factor.<br><br>\n",
    "As for syntax sum1() can be sait to be O(n) since its runtime grows linearly with the input size."
   ]
  },
  {
   "cell_type": "code",
   "execution_count": 9,
   "metadata": {},
   "outputs": [
    {
     "data": {
      "text/plain": [
       "84"
      ]
     },
     "execution_count": 9,
     "metadata": {},
     "output_type": "execute_result"
    }
   ],
   "source": [
    "def Bigo(n):\n",
    "    return 45*n**3 + 20*n**2 + 19\n",
    "Bigo(1)"
   ]
  },
  {
   "cell_type": "code",
   "execution_count": 10,
   "metadata": {},
   "outputs": [
    {
     "data": {
      "text/plain": [
       "459"
      ]
     },
     "execution_count": 10,
     "metadata": {},
     "output_type": "execute_result"
    }
   ],
   "source": [
    "Bigo(2)\n",
    "# starting to see that the 19 will not be a scaling or limiting factor"
   ]
  },
  {
   "cell_type": "code",
   "execution_count": 11,
   "metadata": {},
   "outputs": [
    {
     "data": {
      "text/plain": [
       "47019"
      ]
     },
     "execution_count": 11,
     "metadata": {},
     "output_type": "execute_result"
    }
   ],
   "source": [
    "Bigo(10)"
   ]
  },
  {
   "attachments": {},
   "cell_type": "markdown",
   "metadata": {},
   "source": []
  },
  {
   "attachments": {},
   "cell_type": "markdown",
   "metadata": {},
   "source": [
    "It can be seen that the 19 does not hold much weight anymore.<br>\n",
    "The 20*n**2 in this case is 2000*<br>\n",
    "*The 45**3* in this case is 45,00<br><br>\n",
    "# The part of this algo that really has a lot to do with final answer as data scales, will not be the 45 but the n3. So this algo has an order of n3.O(n**3)\n",
    "![alternatvie text](https://cdn-media-1.freecodecamp.org/images/1*KfZYFUT2OKfjekJlCeYvuQ.jpeg)"
   ]
  },
  {
   "cell_type": "code",
   "execution_count": 14,
   "metadata": {},
   "outputs": [
    {
     "name": "stdout",
     "output_type": "stream",
     "text": [
      "['Solarize_Light2', '_classic_test_patch', '_mpl-gallery', '_mpl-gallery-nogrid', 'bmh', 'classic', 'dark_background', 'fast', 'fivethirtyeight', 'ggplot', 'grayscale', 'seaborn-v0_8', 'seaborn-v0_8-bright', 'seaborn-v0_8-colorblind', 'seaborn-v0_8-dark', 'seaborn-v0_8-dark-palette', 'seaborn-v0_8-darkgrid', 'seaborn-v0_8-deep', 'seaborn-v0_8-muted', 'seaborn-v0_8-notebook', 'seaborn-v0_8-paper', 'seaborn-v0_8-pastel', 'seaborn-v0_8-poster', 'seaborn-v0_8-talk', 'seaborn-v0_8-ticks', 'seaborn-v0_8-white', 'seaborn-v0_8-whitegrid', 'tableau-colorblind10']\n"
     ]
    }
   ],
   "source": [
    "import matplotlib.pyplot as plt\n",
    "\n",
    "print(plt.style.available)\n",
    "\n"
   ]
  },
  {
   "cell_type": "code",
   "execution_count": 15,
   "metadata": {},
   "outputs": [
    {
     "data": {
      "text/plain": [
       "Text(0.5, 0, 'n')"
      ]
     },
     "execution_count": 15,
     "metadata": {},
     "output_type": "execute_result"
    },
    {
     "data": {
      "image/png": "[encoded data removed]",
      "text/plain": [
       "<Figure size 1200x1000 with 1 Axes>"
      ]
     },
     "metadata": {},
     "output_type": "display_data"
    }
   ],
   "source": [
    "from math import log\n",
    "import numpy as np\n",
    "import matplotlib.pyplot as plt\n",
    "%matplotlib inline\n",
    "plt.style.use('bmh')\n",
    "\n",
    "# Set up runtime comparison\n",
    "n = np.linspace(1,10)\n",
    "labels = ['Constant', 'Logarithmic', 'Linear', 'Log Linear', 'Quadratic', 'Cubic', 'Exponential']\n",
    "big_o = [np.ones(n.shape), np.log(n), n,n*np.log(n), n**2, n**3,2**n]\n",
    "\n",
    "# Plot setup\n",
    "plt.figure(figsize=(12,10))\n",
    "plt.ylim(0,50)\n",
    "\n",
    "for i in range(len(big_o)):\n",
    "    plt.plot(n,big_o[i],label = labels[i])\n",
    "\n",
    "plt.legend(loc=0)\n",
    "plt.ylabel('Relative Runtime')\n",
    "plt.xlabel('n')"
   ]
  },
  {
   "attachments": {},
   "cell_type": "markdown",
   "metadata": {},
   "source": [
    "Clearly we want to choose algorithms that stay away from any exponential, quadratic, or cubic behavior!"
   ]
  },
  {
   "attachments": {},
   "cell_type": "markdown",
   "metadata": {},
   "source": [
    "# **Big O Examples**\n",
    "\n",
    "### **O(1) Constant**"
   ]
  },
  {
   "cell_type": "code",
   "execution_count": 16,
   "metadata": {},
   "outputs": [
    {
     "name": "stdout",
     "output_type": "stream",
     "text": [
      "1\n"
     ]
    }
   ],
   "source": [
    "def func_constant(values):\n",
    "    '''\n",
    "    Prints first item in a list of values\n",
    "    '''\n",
    "    print(values[0])\n",
    "\n",
    "func_constant([1,2,3])"
   ]
  },
  {
   "attachments": {},
   "cell_type": "markdown",
   "metadata": {},
   "source": [
    "It does not matter how large my values list becomes, the function/algo will only grab the indexed position 0 in that list.<br><br>\n",
    "### **O(n) Linear**"
   ]
  },
  {
   "cell_type": "code",
   "execution_count": 17,
   "metadata": {},
   "outputs": [
    {
     "name": "stdout",
     "output_type": "stream",
     "text": [
      "1\n",
      "2\n",
      "3\n"
     ]
    }
   ],
   "source": [
    "def func_lin(lst):\n",
    "    '''\n",
    "    Takes in list and prints out all values\n",
    "    '''\n",
    "    for val in lst:\n",
    "        print(val)\n",
    "\n",
    "func_lin([1,2,3])"
   ]
  },
  {
   "attachments": {},
   "cell_type": "markdown",
   "metadata": {},
   "source": [
    "Every value will print for the list, each time, so the larger the list gets the larger the BigO, this algo will scale linearly with n.<br><br>\n",
    "### **O(n^2)Quadratic**\n"
   ]
  },
  {
   "cell_type": "code",
   "execution_count": 19,
   "metadata": {},
   "outputs": [
    {
     "name": "stdout",
     "output_type": "stream",
     "text": [
      "1 1\n",
      "1 2\n",
      "1 3\n",
      "2 1\n",
      "2 2\n",
      "2 3\n",
      "3 1\n",
      "3 2\n",
      "3 3\n"
     ]
    }
   ],
   "source": [
    "def func_quad(lst):\n",
    "    '''\n",
    "    Prints pais for every item in list.\n",
    "    '''\n",
    "    for item_1 in lst:\n",
    "        for item_2 in lst:\n",
    "            print(item_1,item_2)\n",
    "\n",
    "lst = [1, 2, 3]\n",
    "func_quad(lst)"
   ]
  },
  {
   "attachments": {},
   "cell_type": "markdown",
   "metadata": {},
   "source": [
    "- two loops, one nested inside another.\n",
    "- for a list of n items, we will have to perform n operations for every item in the list! This means in total, we will perform n <br>\n",
    "times n assignments, or n^2. So a list of 10 items will have 10^2, or 100 operations. You can see how dangerous this can <br>\n",
    "get for very large inputs! This is why Big-O is so important to be aware of!\n",
    "- hence, the input of 3 gaves us 9 outputs iterations."
   ]
  },
  {
   "attachments": {},
   "cell_type": "markdown",
   "metadata": {},
   "source": [
    "## **Calculating Scale of Big-O**\n",
    "insignificant terms drop out of Big-O notation<br><br>\n",
    "When it comes to Big O notation we only care about the most significant terms, remember as the input grows larger only the <br>\n",
    "fastest growing terms will matter.<br>\n",
    "- like taking limits toward infinity"
   ]
  },
  {
   "cell_type": "code",
   "execution_count": 21,
   "metadata": {},
   "outputs": [
    {
     "name": "stdout",
     "output_type": "stream",
     "text": [
      "1\n",
      "2\n",
      "3\n"
     ]
    }
   ],
   "source": [
    "def print_once(lst):\n",
    "    '''\n",
    "    Prints all items once\n",
    "    '''\n",
    "    for val in lst:\n",
    "        print(val)\n",
    "print_once(lst)\n",
    "\n",
    "# can you see how this growth is linear to the input?\n",
    "# O(n)"
   ]
  },
  {
   "cell_type": "code",
   "execution_count": 22,
   "metadata": {},
   "outputs": [
    {
     "name": "stdout",
     "output_type": "stream",
     "text": [
      "1\n",
      "2\n",
      "3\n",
      "1\n",
      "2\n",
      "3\n",
      "1\n",
      "2\n",
      "3\n"
     ]
    }
   ],
   "source": [
    "def print_3(lst):\n",
    "    '''\n",
    "    Prints all items three times \n",
    "    '''\n",
    "    for val in lst:\n",
    "        print(val)\n",
    "    \n",
    "    for val in lst:\n",
    "        print(val)\n",
    "    \n",
    "    for val in lst:\n",
    "        print(val)\n",
    "\n",
    "print_3(lst)"
   ]
  },
  {
   "attachments": {},
   "cell_type": "markdown",
   "metadata": {},
   "source": [
    "This algo will run 3 times for each n, so this becomes an order of 3(n). It is still linear.<br>\n",
    "More importantly, 3(infinity) is not realy different that (infinity) and we can drop insignificant constants.<br><br>\n",
    "So this too is O(n)"
   ]
  },
  {
   "cell_type": "code",
   "execution_count": 25,
   "metadata": {},
   "outputs": [],
   "source": [
    "def comp(lst):\n",
    "    ''' \n",
    "    This function prints the first item O(1) it is a constant\n",
    "    Then is prints the first 1/2 of the list O(n/2)\n",
    "    Then prints a string 10 times O(10) it is a constant\n",
    "    '''\n",
    "    print(lst[0])\n",
    "\n",
    "    midpoint = len(lst)//2\n",
    "    \n",
    "    for val in lst[:midpoint]:\n",
    "        print(val)\n",
    "\n",
    "    for x in range(10):\n",
    "        print('number')"
   ]
  },
  {
   "cell_type": "code",
   "execution_count": 26,
   "metadata": {},
   "outputs": [
    {
     "name": "stdout",
     "output_type": "stream",
     "text": [
      "1\n",
      "1\n",
      "2\n",
      "3\n",
      "4\n",
      "5\n",
      "number\n",
      "number\n",
      "number\n",
      "number\n",
      "number\n",
      "number\n",
      "number\n",
      "number\n",
      "number\n",
      "number\n"
     ]
    }
   ],
   "source": [
    "lst = [1,2,3,4,5,6,7,8,9,10]\n",
    "comp(lst)"
   ]
  },
  {
   "attachments": {},
   "cell_type": "markdown",
   "metadata": {},
   "source": [
    "### **O(1 + n/2 + 10)**\n",
    "An n gets larger and larger (scales up) you can easily see how the 1 and the 10 quickly begin to mean nothing.<br><br>\n",
    "And the //2 will begin to have no effect either<br><br>\n",
    "End up with O(n)"
   ]
  },
  {
   "attachments": {},
   "cell_type": "markdown",
   "metadata": {},
   "source": [
    "# Worst Case vs Best Case\n",
    "\n",
    "Many times we are only concerned with the worst possible case of an algorithm, but in an interview setting its important to keep<br>\n",
    "in mind that worst case and best case scenarios may be competely different Big-O times."
   ]
  },
  {
   "cell_type": "code",
   "execution_count": 27,
   "metadata": {},
   "outputs": [],
   "source": [
    "def matcher(lst, match):\n",
    "    ''' \n",
    "    Given a list lst, return a boolean indicating if match item is in the list\n",
    "    '''\n",
    "    for item in lst:\n",
    "        if item == match:\n",
    "            return True\n",
    "    return False"
   ]
  },
  {
   "cell_type": "code",
   "execution_count": 28,
   "metadata": {},
   "outputs": [
    {
     "data": {
      "text/plain": [
       "[1, 2, 3, 4, 5, 6, 7, 8, 9, 10]"
      ]
     },
     "execution_count": 28,
     "metadata": {},
     "output_type": "execute_result"
    }
   ],
   "source": [
    "lst"
   ]
  },
  {
   "cell_type": "code",
   "execution_count": 29,
   "metadata": {},
   "outputs": [
    {
     "data": {
      "text/plain": [
       "True"
      ]
     },
     "execution_count": 29,
     "metadata": {},
     "output_type": "execute_result"
    }
   ],
   "source": [
    "matcher(lst, 1) # this is best case because item seeked is index 0. O(1) Best case becomes a constant"
   ]
  },
  {
   "cell_type": "code",
   "execution_count": 30,
   "metadata": {},
   "outputs": [
    {
     "data": {
      "text/plain": [
       "False"
      ]
     },
     "execution_count": 30,
     "metadata": {},
     "output_type": "execute_result"
    }
   ],
   "source": [
    "matcher(lst, 20) # worst case, entire list must be searched, n elements. O(n) Worst becomes linear"
   ]
  },
  {
   "attachments": {},
   "cell_type": "markdown",
   "metadata": {},
   "source": [
    "# Space Complexity\n",
    "\n",
    "Also concerned with how much memory/space an algorithm uses. The notation of space complexity is the same, but instead of <br>\n",
    "checking the time of operations, we check the size of the allocation of memory."
   ]
  },
  {
   "cell_type": "code",
   "execution_count": 31,
   "metadata": {},
   "outputs": [
    {
     "name": "stdout",
     "output_type": "stream",
     "text": [
      "Memory!\n",
      "Memory!\n",
      "Memory!\n",
      "Memory!\n",
      "Memory!\n",
      "Memory!\n",
      "Memory!\n",
      "Memory!\n",
      "Memory!\n",
      "Memory!\n"
     ]
    }
   ],
   "source": [
    "def memory(n=10):\n",
    "    ''' \n",
    "    Prints \"Memory!\" n times\n",
    "    '''\n",
    "    for x in range(n): # TIME COMPLEXITY O(n)\n",
    "        print('Memory!') # SPACE COMPLEXITY O(1)\n",
    "\n",
    "memory(10)"
   ]
  },
  {
   "attachments": {},
   "cell_type": "markdown",
   "metadata": {},
   "source": [
    "O(n) for time complexity but what about space complexity.<br>\n",
    "In memory it does not need to store 10 versions of \"Memory!\" it only need store one string. O(1)"
   ]
  },
  {
   "cell_type": "code",
   "execution_count": null,
   "metadata": {},
   "outputs": [],
   "source": []
  }
 ],
 "metadata": {
  "kernelspec": {
   "display_name": "algorithms",
   "language": "python",
   "name": "python3"
  },
  "language_info": {
   "codemirror_mode": {
    "name": "ipython",
    "version": 3
   },
   "file_extension": ".py",
   "mimetype": "text/x-python",
   "name": "python",
   "nbconvert_exporter": "python",
   "pygments_lexer": "ipython3",
   "version": "3.10.9"
  },
  "orig_nbformat": 4
 },
 "nbformat": 4,
 "nbformat_minor": 2
}
